{
 "cells": [
  {
   "cell_type": "markdown",
   "metadata": {},
   "source": [
    "# Edinburgh: Where to move?"
   ]
  },
  {
   "cell_type": "markdown",
   "metadata": {},
   "source": [
    "## Introduction/Business Problem"
   ]
  },
  {
   "cell_type": "markdown",
   "metadata": {},
   "source": [
    "This project will aim to consider potential areas for a family to move to in the city of Edinburgh in Scotland. This will be based on similarity to the area they currently live, the EH7 postcode district. Similarity will be based on the k-Means clustering method using the relative presence of different types of venues returned by the Foursquare app. The audience will be real estate agents in Edinburgh, as they may use the resulting clusters to recommend particular areas to move to."
   ]
  },
  {
   "cell_type": "markdown",
   "metadata": {},
   "source": [
    "## Data"
   ]
  },
  {
   "cell_type": "markdown",
   "metadata": {},
   "source": [
    "The list of Edinburgh postcode areas (outcodes) can be found on the following Wikipedia page:\n",
    "https://en.wikipedia.org/wiki/EH_postcode_area\n",
    "\n",
    "I can then use the Postcodes.io API (http://postcodes.io/) to find the latitude and longitude of these locations.\n",
    "\n",
    "I will then use the Foursquare API to return venues around these locations. This will then be used to cluster the areas.\n",
    "\n",
    "I may try to use the Zoopla API (https://developer.zoopla.co.uk/) to gather information about average property prices in potential areas, but I am less confident about my ability to do so."
   ]
  },
  {
   "cell_type": "code",
   "execution_count": null,
   "metadata": {},
   "outputs": [],
   "source": []
  }
 ],
 "metadata": {
  "kernelspec": {
   "display_name": "Python 3",
   "language": "python",
   "name": "python3"
  },
  "language_info": {
   "codemirror_mode": {
    "name": "ipython",
    "version": 3
   },
   "file_extension": ".py",
   "mimetype": "text/x-python",
   "name": "python",
   "nbconvert_exporter": "python",
   "pygments_lexer": "ipython3",
   "version": "3.7.6"
  }
 },
 "nbformat": 4,
 "nbformat_minor": 4
}
